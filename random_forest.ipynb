{
  "nbformat": 4,
  "nbformat_minor": 0,
  "metadata": {
    "kernelspec": {
      "display_name": "Python 3",
      "language": "python",
      "name": "python3"
    },
    "language_info": {
      "codemirror_mode": {
        "name": "ipython",
        "version": 3
      },
      "file_extension": ".py",
      "mimetype": "text/x-python",
      "name": "python",
      "nbconvert_exporter": "python",
      "pygments_lexer": "ipython3",
      "version": "3.7.3"
    },
    "colab": {
      "name": "random_forest.ipynb",
      "provenance": []
    }
  },
  "cells": [
    {
      "cell_type": "code",
      "metadata": {
        "id": "E9eDq5Qakxms"
      },
      "source": [
        "import numpy as np\n",
        "import pandas as pd\n",
        "\n",
        "import random \n",
        "\n",
        "from random_forest import random_forest_algorithm, random_forest_predictions\n",
        "from helper_functions import calculate_accuracy, calculate_rmse\n"
      ],
      "execution_count": 1,
      "outputs": []
    },
    {
      "cell_type": "markdown",
      "metadata": {
        "id": "0ARxIjSmkxnB"
      },
      "source": [
        "# Predicting Weather Condition (Classification)"
      ]
    },
    {
      "cell_type": "markdown",
      "metadata": {
        "id": "79vY0KPC0Hte"
      },
      "source": [
        "## Loading Data"
      ]
    },
    {
      "cell_type": "code",
      "metadata": {
        "id": "ho_X2EJakxm2"
      },
      "source": [
        "df = pd.read_csv(\"weather_condition_data.csv\")\n",
        "df.columns = df.columns.str.replace(' ','_')"
      ],
      "execution_count": 2,
      "outputs": []
    },
    {
      "cell_type": "code",
      "metadata": {
        "id": "G4TU6jhz9pOm"
      },
      "source": [
        "df[\"label\"] = df.replace(' ', '_', regex=True).label\n"
      ],
      "execution_count": 3,
      "outputs": []
    },
    {
      "cell_type": "code",
      "metadata": {
        "id": "fqrZXOPmkxm7",
        "outputId": "d3e005f0-a3c1-401b-8d4f-3e22cbdd5542",
        "colab": {
          "base_uri": "https://localhost:8080/",
          "height": 224
        }
      },
      "source": [
        "df.head()"
      ],
      "execution_count": 4,
      "outputs": [
        {
          "output_type": "execute_result",
          "data": {
            "text/html": [
              "<div>\n",
              "<style scoped>\n",
              "    .dataframe tbody tr th:only-of-type {\n",
              "        vertical-align: middle;\n",
              "    }\n",
              "\n",
              "    .dataframe tbody tr th {\n",
              "        vertical-align: top;\n",
              "    }\n",
              "\n",
              "    .dataframe thead th {\n",
              "        text-align: right;\n",
              "    }\n",
              "</style>\n",
              "<table border=\"1\" class=\"dataframe\">\n",
              "  <thead>\n",
              "    <tr style=\"text-align: right;\">\n",
              "      <th></th>\n",
              "      <th>atmosphere_pressure</th>\n",
              "      <th>Humidity_(%)</th>\n",
              "      <th>Wx_(m/s)</th>\n",
              "      <th>Wy_(m/s)</th>\n",
              "      <th>Day_sin</th>\n",
              "      <th>Day_cos</th>\n",
              "      <th>Year_sin</th>\n",
              "      <th>Year_cos</th>\n",
              "      <th>label</th>\n",
              "    </tr>\n",
              "  </thead>\n",
              "  <tbody>\n",
              "    <tr>\n",
              "      <th>0</th>\n",
              "      <td>745</td>\n",
              "      <td>71</td>\n",
              "      <td>4.000000e+00</td>\n",
              "      <td>0.000000</td>\n",
              "      <td>-0.965926</td>\n",
              "      <td>0.258819</td>\n",
              "      <td>-0.003627</td>\n",
              "      <td>0.999993</td>\n",
              "      <td>Overcast</td>\n",
              "    </tr>\n",
              "    <tr>\n",
              "      <th>1</th>\n",
              "      <td>746</td>\n",
              "      <td>73</td>\n",
              "      <td>2.000000e+00</td>\n",
              "      <td>0.000000</td>\n",
              "      <td>-0.500000</td>\n",
              "      <td>0.866025</td>\n",
              "      <td>-0.001477</td>\n",
              "      <td>0.999999</td>\n",
              "      <td>Overcast</td>\n",
              "    </tr>\n",
              "    <tr>\n",
              "      <th>2</th>\n",
              "      <td>747</td>\n",
              "      <td>80</td>\n",
              "      <td>1.224647e-16</td>\n",
              "      <td>2.000000</td>\n",
              "      <td>0.258819</td>\n",
              "      <td>0.965926</td>\n",
              "      <td>0.000674</td>\n",
              "      <td>1.000000</td>\n",
              "      <td>Overcast</td>\n",
              "    </tr>\n",
              "    <tr>\n",
              "      <th>3</th>\n",
              "      <td>747</td>\n",
              "      <td>74</td>\n",
              "      <td>1.836970e-16</td>\n",
              "      <td>3.000000</td>\n",
              "      <td>0.866025</td>\n",
              "      <td>0.500000</td>\n",
              "      <td>0.002824</td>\n",
              "      <td>0.999996</td>\n",
              "      <td>Overcast</td>\n",
              "    </tr>\n",
              "    <tr>\n",
              "      <th>4</th>\n",
              "      <td>744</td>\n",
              "      <td>62</td>\n",
              "      <td>-4.242641e+00</td>\n",
              "      <td>4.242641</td>\n",
              "      <td>0.965926</td>\n",
              "      <td>-0.258819</td>\n",
              "      <td>0.004974</td>\n",
              "      <td>0.999988</td>\n",
              "      <td>Overcast</td>\n",
              "    </tr>\n",
              "  </tbody>\n",
              "</table>\n",
              "</div>"
            ],
            "text/plain": [
              "   atmosphere_pressure  Humidity_(%)  ...  Year_cos     label\n",
              "0                  745            71  ...  0.999993  Overcast\n",
              "1                  746            73  ...  0.999999  Overcast\n",
              "2                  747            80  ...  1.000000  Overcast\n",
              "3                  747            74  ...  0.999996  Overcast\n",
              "4                  744            62  ...  0.999988  Overcast\n",
              "\n",
              "[5 rows x 9 columns]"
            ]
          },
          "metadata": {
            "tags": []
          },
          "execution_count": 4
        }
      ]
    },
    {
      "cell_type": "markdown",
      "metadata": {
        "id": "iG9LjSIIkxnC"
      },
      "source": [
        "## Split the data\n",
        "Using a (70%, 20%, 10%) split for the training, validation, and test sets.\n"
      ]
    },
    {
      "cell_type": "code",
      "metadata": {
        "id": "RlHmIKsKkxnD"
      },
      "source": [
        "n = len(df)\n",
        "train_df = df[0:int(n*0.7)]\n",
        "val_df = df[int(n*0.7):int(n*0.9)]\n",
        "test_df = df[int(n*0.9):]\n"
      ],
      "execution_count": 5,
      "outputs": []
    },
    {
      "cell_type": "markdown",
      "metadata": {
        "id": "ANQ3BQvT0PCa"
      },
      "source": [
        "## Random Forest Classifier"
      ]
    },
    {
      "cell_type": "code",
      "metadata": {
        "id": "uloK54YU2_7k",
        "outputId": "f0d00b09-b7dc-428b-ca1b-099ec1ebc632",
        "colab": {
          "base_uri": "https://localhost:8080/",
          "height": 374
        }
      },
      "source": [
        "forest = random_forest_algorithm(train_df, val_df, n_trees=20, n_bootstrap=3000, n_features=5, dt_max_depth=7, ml_task = \"classification\")\n",
        "predictions = random_forest_predictions(test_df, forest,  ml_task = \"classification\")\n",
        "accuracy = calculate_accuracy(predictions, test_df.label)\n",
        "print(\"Accuracy = {}\".format(accuracy))\n"
      ],
      "execution_count": 6,
      "outputs": [
        {
          "output_type": "stream",
          "text": [
            "Decision-Tree #  1\n",
            "Decision-Tree #  2\n",
            "Decision-Tree #  3\n",
            "Decision-Tree #  4\n",
            "Decision-Tree #  5\n",
            "Decision-Tree #  6\n",
            "Decision-Tree #  7\n",
            "Decision-Tree #  8\n",
            "Decision-Tree #  9\n",
            "Decision-Tree #  10\n",
            "Decision-Tree #  11\n",
            "Decision-Tree #  12\n",
            "Decision-Tree #  13\n",
            "Decision-Tree #  14\n",
            "Decision-Tree #  15\n",
            "Decision-Tree #  16\n",
            "Decision-Tree #  17\n",
            "Decision-Tree #  18\n",
            "Decision-Tree #  19\n",
            "Decision-Tree #  20\n",
            "Accuracy = 0.8399488926746167\n"
          ],
          "name": "stdout"
        }
      ]
    },
    {
      "cell_type": "markdown",
      "metadata": {
        "id": "gl1QNzxizge9"
      },
      "source": [
        "# Predicting Weather Temperature (Regression)"
      ]
    },
    {
      "cell_type": "markdown",
      "metadata": {
        "id": "ypGKUeBt0VFT"
      },
      "source": [
        "## Load Temperature Data"
      ]
    },
    {
      "cell_type": "code",
      "metadata": {
        "id": "SHXlqlT-0YYx",
        "outputId": "93f8c11a-3d87-4f8c-d364-ba264a1de667",
        "colab": {
          "base_uri": "https://localhost:8080/",
          "height": 224
        }
      },
      "source": [
        "df = pd.read_csv(\"temperature_data.csv\")\n",
        "df.columns = df.columns.str.replace(' ','_')\n",
        "df.head()"
      ],
      "execution_count": 7,
      "outputs": [
        {
          "output_type": "execute_result",
          "data": {
            "text/html": [
              "<div>\n",
              "<style scoped>\n",
              "    .dataframe tbody tr th:only-of-type {\n",
              "        vertical-align: middle;\n",
              "    }\n",
              "\n",
              "    .dataframe tbody tr th {\n",
              "        vertical-align: top;\n",
              "    }\n",
              "\n",
              "    .dataframe thead th {\n",
              "        text-align: right;\n",
              "    }\n",
              "</style>\n",
              "<table border=\"1\" class=\"dataframe\">\n",
              "  <thead>\n",
              "    <tr style=\"text-align: right;\">\n",
              "      <th></th>\n",
              "      <th>atmosphere_pressure</th>\n",
              "      <th>Humidity_(%)</th>\n",
              "      <th>Wx_(m/s)</th>\n",
              "      <th>Wy_(m/s)</th>\n",
              "      <th>Day_sin</th>\n",
              "      <th>Day_cos</th>\n",
              "      <th>Year_sin</th>\n",
              "      <th>Year_cos</th>\n",
              "      <th>label</th>\n",
              "    </tr>\n",
              "  </thead>\n",
              "  <tbody>\n",
              "    <tr>\n",
              "      <th>0</th>\n",
              "      <td>745</td>\n",
              "      <td>71</td>\n",
              "      <td>4.000000e+00</td>\n",
              "      <td>0.000000</td>\n",
              "      <td>-0.965926</td>\n",
              "      <td>0.258819</td>\n",
              "      <td>-0.003627</td>\n",
              "      <td>0.999993</td>\n",
              "      <td>-8</td>\n",
              "    </tr>\n",
              "    <tr>\n",
              "      <th>1</th>\n",
              "      <td>746</td>\n",
              "      <td>73</td>\n",
              "      <td>2.000000e+00</td>\n",
              "      <td>0.000000</td>\n",
              "      <td>-0.500000</td>\n",
              "      <td>0.866025</td>\n",
              "      <td>-0.001477</td>\n",
              "      <td>0.999999</td>\n",
              "      <td>-8</td>\n",
              "    </tr>\n",
              "    <tr>\n",
              "      <th>2</th>\n",
              "      <td>747</td>\n",
              "      <td>80</td>\n",
              "      <td>1.224647e-16</td>\n",
              "      <td>2.000000</td>\n",
              "      <td>0.258819</td>\n",
              "      <td>0.965926</td>\n",
              "      <td>0.000674</td>\n",
              "      <td>1.000000</td>\n",
              "      <td>-13</td>\n",
              "    </tr>\n",
              "    <tr>\n",
              "      <th>3</th>\n",
              "      <td>747</td>\n",
              "      <td>74</td>\n",
              "      <td>1.836970e-16</td>\n",
              "      <td>3.000000</td>\n",
              "      <td>0.866025</td>\n",
              "      <td>0.500000</td>\n",
              "      <td>0.002824</td>\n",
              "      <td>0.999996</td>\n",
              "      <td>-9</td>\n",
              "    </tr>\n",
              "    <tr>\n",
              "      <th>4</th>\n",
              "      <td>744</td>\n",
              "      <td>62</td>\n",
              "      <td>-4.242641e+00</td>\n",
              "      <td>4.242641</td>\n",
              "      <td>0.965926</td>\n",
              "      <td>-0.258819</td>\n",
              "      <td>0.004974</td>\n",
              "      <td>0.999988</td>\n",
              "      <td>-6</td>\n",
              "    </tr>\n",
              "  </tbody>\n",
              "</table>\n",
              "</div>"
            ],
            "text/plain": [
              "   atmosphere_pressure  Humidity_(%)      Wx_(m/s)  ...  Year_sin  Year_cos  label\n",
              "0                  745            71  4.000000e+00  ... -0.003627  0.999993     -8\n",
              "1                  746            73  2.000000e+00  ... -0.001477  0.999999     -8\n",
              "2                  747            80  1.224647e-16  ...  0.000674  1.000000    -13\n",
              "3                  747            74  1.836970e-16  ...  0.002824  0.999996     -9\n",
              "4                  744            62 -4.242641e+00  ...  0.004974  0.999988     -6\n",
              "\n",
              "[5 rows x 9 columns]"
            ]
          },
          "metadata": {
            "tags": []
          },
          "execution_count": 7
        }
      ]
    },
    {
      "cell_type": "markdown",
      "metadata": {
        "id": "shnUQr7v4Pgx"
      },
      "source": [
        "## Split the data\n",
        "Using a (70%, 20%, 10%) split for the training, validation, and test sets."
      ]
    },
    {
      "cell_type": "code",
      "metadata": {
        "id": "he6wlCvf4OxA"
      },
      "source": [
        "n = len(df)\n",
        "train_df = df[0:int(n*0.7)]\n",
        "val_df = df[int(n*0.7):int(n*0.9)]\n",
        "test_df = df[int(n*0.9):]\n"
      ],
      "execution_count": 8,
      "outputs": []
    },
    {
      "cell_type": "markdown",
      "metadata": {
        "id": "qGeYSgwQAKr3"
      },
      "source": [
        "## Random Forest Regressor"
      ]
    },
    {
      "cell_type": "code",
      "metadata": {
        "id": "6A9Llp4Qkxnn",
        "outputId": "d59482f4-e796-47cf-8bc6-98e4d7df8e94",
        "colab": {
          "base_uri": "https://localhost:8080/",
          "height": 357
        }
      },
      "source": [
        "forest = random_forest_algorithm(train_df, val_df, n_trees=30, n_bootstrap=3000, n_features=5, dt_max_depth=7, ml_task = \"regression\")\n"
      ],
      "execution_count": 9,
      "outputs": [
        {
          "output_type": "stream",
          "text": [
            "Decision-Tree #  1\n",
            "Decision-Tree #  2\n",
            "Decision-Tree #  3\n",
            "Decision-Tree #  4\n",
            "Decision-Tree #  5\n",
            "Decision-Tree #  6\n",
            "Decision-Tree #  7\n",
            "Decision-Tree #  8\n",
            "Decision-Tree #  9\n",
            "Decision-Tree #  10\n",
            "Decision-Tree #  11\n",
            "Decision-Tree #  12\n",
            "Decision-Tree #  13\n",
            "Decision-Tree #  14\n",
            "Decision-Tree #  15\n",
            "Decision-Tree #  16\n",
            "Decision-Tree #  17\n",
            "Decision-Tree #  18\n",
            "Decision-Tree #  19\n",
            "Decision-Tree #  20\n"
          ],
          "name": "stdout"
        }
      ]
    },
    {
      "cell_type": "code",
      "metadata": {
        "id": "wR-ryt4kGn1l"
      },
      "source": [
        "predictions = random_forest_predictions(test_df, forest, \"regression\")\n"
      ],
      "execution_count": 10,
      "outputs": []
    },
    {
      "cell_type": "code",
      "metadata": {
        "id": "BefWq3HBC6sM",
        "outputId": "b3e3b002-a877-4888-dded-859a47378d92",
        "colab": {
          "base_uri": "https://localhost:8080/",
          "height": 34
        }
      },
      "source": [
        "rmse = np.sqrt(((predictions - test_df.label) ** 2).mean())\n",
        "print(\"RMSE = {}\".format(rmse))\n"
      ],
      "execution_count": 11,
      "outputs": [
        {
          "output_type": "stream",
          "text": [
            "RMSE = 4.000610167744221\n"
          ],
          "name": "stdout"
        }
      ]
    }
  ]
}